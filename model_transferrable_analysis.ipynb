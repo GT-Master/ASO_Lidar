{
 "cells": [
  {
   "cell_type": "code",
   "execution_count": 1,
   "metadata": {
    "collapsed": true
   },
   "outputs": [],
   "source": [
    "from recon_lidar_error_stat import init, getData, np, mean_squared_error, datetime, plt\n",
    "import recon_lidar_error_stat\n",
    "import pickle\n",
    "import warnings\n",
    "warnings.filterwarnings(\"ignore\")"
   ]
  },
  {
   "cell_type": "code",
   "execution_count": 2,
   "metadata": {
    "collapsed": true
   },
   "outputs": [],
   "source": [
    "recon_lidar_error_stat.init()"
   ]
  },
  {
   "cell_type": "code",
   "execution_count": 8,
   "metadata": {
    "collapsed": false
   },
   "outputs": [],
   "source": [
    "def transfer_model(from_site_abbr, to_site_abbr, from_date_time, to_date_time, shift=True, with_swe=False):\n",
    "    test_feature, test_y = getData(to_site_abbr, to_date_time, shift=shift, with_swe=with_swe)\n",
    "    rf_model_fn = \"regression_models/\" + from_site_abbr + \"_\" + from_date_time.strftime(\"%y_%m_%d\") + \"_\"\n",
    "    if shift:\n",
    "        rf_model_fn = \"regression_models/\" + from_site_abbr + \"_\" + from_date_time.strftime(\"%y_%m_%d\") + \"_shift_\"\n",
    "    if with_swe:\n",
    "        rf_model_fn += \"swe_rf.p\"\n",
    "    else:\n",
    "        rf_model_fn += \"rf.p\"\n",
    "    rf_model = pickle.load(open(rf_model_fn, \"rb\"))\n",
    "    rf_model.n_jobs=1\n",
    "    predict_y = rf_model.predict(test_feature)\n",
    "    return np.corrcoef(test_y, predict_y), np.sqrt(mean_squared_error(test_y, predict_y))"
   ]
  },
  {
   "cell_type": "code",
   "execution_count": 11,
   "metadata": {
    "collapsed": false
   },
   "outputs": [],
   "source": [
    "def transfer_model_temporal(site_abbr, with_swe=False):\n",
    "    if site_abbr == \"MB\":\n",
    "        site_date_time = recon_lidar_error_stat.merced_date_list\n",
    "    else:\n",
    "        site_date_time = recon_lidar_error_stat.tuolumne_date_list\n",
    "    corr_mat = np.zeros((len(site_date_time), len(site_date_time)))\n",
    "    rmse_mat = np.zeros((len(site_date_time), len(site_date_time)))\n",
    "    for i, from_date_time in enumerate(site_date_time):\n",
    "        for j, to_date_time in enumerate(site_date_time):\n",
    "            corr, rmse = transfer_model(site_abbr, site_abbr, from_date_time, to_date_time, shift=True, with_swe=with_swe)\n",
    "            corr_mat[i, j] = corr[0, 1]\n",
    "            rmse_mat[i, j] = rmse\n",
    "    plt.imshow(corr_mat, interpolation='nearest', cmap=plt.get_cmap(\"Oranges\"), vmin=0.7, vmax=1.0)\n",
    "    plt.colorbar()\n",
    "    plt.show()\n",
    "    plt.imshow(rmse_mat, interpolation='nearest', cmap=plt.get_cmap(\"Oranges\"), vmin=0.05, vmax=0.2)\n",
    "    plt.colorbar()\n",
    "    plt.show()"
   ]
  },
  {
   "cell_type": "markdown",
   "metadata": {},
   "source": [
    "Below is the figure showing of correlation and rmse of transfering the model to different dates when the feature __does not include__ the current reconstructed SWE"
   ]
  },
  {
   "cell_type": "code",
   "execution_count": null,
   "metadata": {
    "collapsed": false,
    "scrolled": false
   },
   "outputs": [],
   "source": [
    "transfer_model_temporal(\"MB\")"
   ]
  },
  {
   "cell_type": "markdown",
   "metadata": {},
   "source": [
    "Below is the figure showing of correlation and rmse of transfering the model to different dates when the feature __include__ the current reconstructed SWE"
   ]
  },
  {
   "cell_type": "code",
   "execution_count": null,
   "metadata": {
    "collapsed": false
   },
   "outputs": [],
   "source": [
    "transfer_model_temporal(\"MB\", with_swe=True)"
   ]
  }
 ],
 "metadata": {
  "kernelspec": {
   "display_name": "Python 2",
   "language": "python",
   "name": "python2"
  },
  "language_info": {
   "codemirror_mode": {
    "name": "ipython",
    "version": 2
   },
   "file_extension": ".py",
   "mimetype": "text/x-python",
   "name": "python",
   "nbconvert_exporter": "python",
   "pygments_lexer": "ipython2",
   "version": "2.7.3"
  }
 },
 "nbformat": 4,
 "nbformat_minor": 0
}
